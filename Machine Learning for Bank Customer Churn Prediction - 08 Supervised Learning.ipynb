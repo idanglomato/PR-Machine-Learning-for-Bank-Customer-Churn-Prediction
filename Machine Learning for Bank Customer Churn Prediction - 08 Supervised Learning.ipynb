{
 "cells": [
  {
   "cell_type": "markdown",
   "metadata": {},
   "source": [
    "# Machine Learning for Bank Customer Churn Prediction"
   ]
  },
  {
   "cell_type": "markdown",
   "metadata": {},
   "source": [
    "## Table of Contents <a id='back'></a>\n",
    "\n",
    "* [1. Introduction](#intro)\n",
    "* [2. Initiation](#init)\n",
    "* [3. Data Overview](#overview)\n",
    "* [4. Preprocessing](#pre)\n",
    "* [5. Model Training and Validation](#train)\n",
    "\t* [5.1. First Model](#1)\n",
    "\t* [5.2. Second Model](#2)\n",
    "\t* [5.3. Sanity Check](#3)\n",
    "\t* [5.4. Confusion Matrix](#4)\n",
    "\t* [5.5. Third Model Using Balanced Class Weight](#5)\n",
    "\t* [5.6. Fourth Model Using Upsampling](#6)\n",
    "\t* [5.7. Fifth Model Using Downsampling](#7)\n",
    "\t* [5.8. Adjusting Classification Thresholds](#8)\n",
    "\t* [5.9. Precision Recall Curve](#9)\n",
    "\t* [5.10. Receiver Operating Characteristic Curve](#10)\n",
    "* [6. General Conclusion](#end)"
   ]
  },
  {
   "cell_type": "markdown",
   "metadata": {},
   "source": [
    "## 1. Introduction <a id='intro'></a>"
   ]
  },
  {
   "cell_type": "markdown",
   "metadata": {},
   "source": [
    "### 1.1. Project Description"
   ]
  },
  {
   "cell_type": "markdown",
   "metadata": {},
   "source": [
    "Bank Beta customers are gradually leaving the company, their numbers are decreasing every month. Bank employees realize that it would be more cost-effective for the company to focus on retaining their loyal customers rather than attracting new ones.\n",
    "\n",
    "In this case, our task is to predict whether a customer will soon leave the bank or not. You have data related to the clients' behavior in the past and their history of contract termination with the bank.\n",
    "\n",
    "Create a model with the maximum possible F1 score. To pass the review, you need a minimum F1 score of 0.59 for the test dataset. Check the F1 score for the test set.\n",
    "\n",
    "Additionally, measure the AUC-ROC metric and compare it with the F1 score."
   ]
  },
  {
   "cell_type": "markdown",
   "metadata": {},
   "source": [
    "### 1.2. Objectives"
   ]
  },
  {
   "cell_type": "markdown",
   "metadata": {},
   "source": [
    "The objectives for this research are:\n",
    "1. Build first model without adjusting for imbalance.\n",
    "2. Conduct sanity check.\n",
    "3. Improve the model until the F1 score is more than equals to 0.59."
   ]
  },
  {
   "cell_type": "markdown",
   "metadata": {},
   "source": [
    "### 1.3. Dataset Description"
   ]
  },
  {
   "cell_type": "markdown",
   "metadata": {},
   "source": [
    "The dataset contains:\n",
    "* RowNumber - observation number\n",
    "* CustomerId - customer id\n",
    "* Surname - surname\n",
    "* CreditScore - credit score\n",
    "* Geography - domicile country\n",
    "* Gender - gender\n",
    "* Age - age\n",
    "* Tenure - maturity period for the customer's fixed deposit\n",
    "* Balance - account balance\n",
    "* NumOfProducts - number of bank's products used by the customer\n",
    "* HasCrCard - credit card availability (1 - yes; 0 - no)\n",
    "* IsActiveMember - active membership (1 - yes; 0 - no)\n",
    "* EstimatedSalary - estimated salary\n",
    "* Exited - has the customer leave (1 - yes; 0 - no)"
   ]
  },
  {
   "cell_type": "markdown",
   "metadata": {},
   "source": [
    "### 1.4. Methodology"
   ]
  },
  {
   "cell_type": "markdown",
   "metadata": {},
   "source": [
    "The steps for this research are:\n",
    "1. Data exploration\n",
    "2. Data preprocessing\n",
    "3. Model training and validation\n",
    "4. Conclusion"
   ]
  },
  {
   "cell_type": "markdown",
   "metadata": {},
   "source": [
    "[back to table of contents](#back)"
   ]
  },
  {
   "cell_type": "markdown",
   "metadata": {},
   "source": [
    "## 2. Initiation <a id='init'></a>"
   ]
  },
  {
   "cell_type": "code",
   "execution_count": 1,
   "metadata": {},
   "outputs": [],
   "source": [
    "import pandas as pd\n",
    "import numpy as np\n",
    "import matplotlib.pyplot as plt\n",
    "import seaborn as sns\n",
    "from tqdm import tqdm\n",
    "from sklearn.model_selection import train_test_split\n",
    "from sklearn.tree import DecisionTreeClassifier\n",
    "from sklearn.ensemble import RandomForestClassifier\n",
    "from sklearn.linear_model import LogisticRegression\n",
    "from sklearn.utils import shuffle\n",
    "from sklearn.preprocessing import StandardScaler\n",
    "from sklearn.metrics import accuracy_score, precision_score, recall_score, f1_score\n",
    "from sklearn.metrics import confusion_matrix, precision_recall_curve, roc_auc_score, roc_curve"
   ]
  },
  {
   "cell_type": "code",
   "execution_count": 2,
   "metadata": {},
   "outputs": [],
   "source": [
    "data = pd.read_csv('datasets/Churn.csv', index_col='RowNumber')"
   ]
  },
  {
   "cell_type": "markdown",
   "metadata": {},
   "source": [
    "[back to table of contents](#back)"
   ]
  },
  {
   "cell_type": "markdown",
   "metadata": {},
   "source": [
    "## 3. Data Overview <a id='overview'></a>"
   ]
  },
  {
   "cell_type": "code",
   "execution_count": 3,
   "metadata": {
    "scrolled": false
   },
   "outputs": [
    {
     "data": {
      "text/html": [
       "<div>\n",
       "<style scoped>\n",
       "    .dataframe tbody tr th:only-of-type {\n",
       "        vertical-align: middle;\n",
       "    }\n",
       "\n",
       "    .dataframe tbody tr th {\n",
       "        vertical-align: top;\n",
       "    }\n",
       "\n",
       "    .dataframe thead th {\n",
       "        text-align: right;\n",
       "    }\n",
       "</style>\n",
       "<table border=\"1\" class=\"dataframe\">\n",
       "  <thead>\n",
       "    <tr style=\"text-align: right;\">\n",
       "      <th></th>\n",
       "      <th>CustomerId</th>\n",
       "      <th>Surname</th>\n",
       "      <th>CreditScore</th>\n",
       "      <th>Geography</th>\n",
       "      <th>Gender</th>\n",
       "      <th>Age</th>\n",
       "      <th>Tenure</th>\n",
       "      <th>Balance</th>\n",
       "      <th>NumOfProducts</th>\n",
       "      <th>HasCrCard</th>\n",
       "      <th>IsActiveMember</th>\n",
       "      <th>EstimatedSalary</th>\n",
       "      <th>Exited</th>\n",
       "    </tr>\n",
       "    <tr>\n",
       "      <th>RowNumber</th>\n",
       "      <th></th>\n",
       "      <th></th>\n",
       "      <th></th>\n",
       "      <th></th>\n",
       "      <th></th>\n",
       "      <th></th>\n",
       "      <th></th>\n",
       "      <th></th>\n",
       "      <th></th>\n",
       "      <th></th>\n",
       "      <th></th>\n",
       "      <th></th>\n",
       "      <th></th>\n",
       "    </tr>\n",
       "  </thead>\n",
       "  <tbody>\n",
       "    <tr>\n",
       "      <th>1</th>\n",
       "      <td>15634602</td>\n",
       "      <td>Hargrave</td>\n",
       "      <td>619</td>\n",
       "      <td>France</td>\n",
       "      <td>Female</td>\n",
       "      <td>42</td>\n",
       "      <td>2.0</td>\n",
       "      <td>0.00</td>\n",
       "      <td>1</td>\n",
       "      <td>1</td>\n",
       "      <td>1</td>\n",
       "      <td>101348.88</td>\n",
       "      <td>1</td>\n",
       "    </tr>\n",
       "    <tr>\n",
       "      <th>2</th>\n",
       "      <td>15647311</td>\n",
       "      <td>Hill</td>\n",
       "      <td>608</td>\n",
       "      <td>Spain</td>\n",
       "      <td>Female</td>\n",
       "      <td>41</td>\n",
       "      <td>1.0</td>\n",
       "      <td>83807.86</td>\n",
       "      <td>1</td>\n",
       "      <td>0</td>\n",
       "      <td>1</td>\n",
       "      <td>112542.58</td>\n",
       "      <td>0</td>\n",
       "    </tr>\n",
       "    <tr>\n",
       "      <th>3</th>\n",
       "      <td>15619304</td>\n",
       "      <td>Onio</td>\n",
       "      <td>502</td>\n",
       "      <td>France</td>\n",
       "      <td>Female</td>\n",
       "      <td>42</td>\n",
       "      <td>8.0</td>\n",
       "      <td>159660.80</td>\n",
       "      <td>3</td>\n",
       "      <td>1</td>\n",
       "      <td>0</td>\n",
       "      <td>113931.57</td>\n",
       "      <td>1</td>\n",
       "    </tr>\n",
       "    <tr>\n",
       "      <th>4</th>\n",
       "      <td>15701354</td>\n",
       "      <td>Boni</td>\n",
       "      <td>699</td>\n",
       "      <td>France</td>\n",
       "      <td>Female</td>\n",
       "      <td>39</td>\n",
       "      <td>1.0</td>\n",
       "      <td>0.00</td>\n",
       "      <td>2</td>\n",
       "      <td>0</td>\n",
       "      <td>0</td>\n",
       "      <td>93826.63</td>\n",
       "      <td>0</td>\n",
       "    </tr>\n",
       "    <tr>\n",
       "      <th>5</th>\n",
       "      <td>15737888</td>\n",
       "      <td>Mitchell</td>\n",
       "      <td>850</td>\n",
       "      <td>Spain</td>\n",
       "      <td>Female</td>\n",
       "      <td>43</td>\n",
       "      <td>2.0</td>\n",
       "      <td>125510.82</td>\n",
       "      <td>1</td>\n",
       "      <td>1</td>\n",
       "      <td>1</td>\n",
       "      <td>79084.10</td>\n",
       "      <td>0</td>\n",
       "    </tr>\n",
       "  </tbody>\n",
       "</table>\n",
       "</div>"
      ],
      "text/plain": [
       "           CustomerId   Surname  CreditScore Geography  Gender  Age  Tenure  \\\n",
       "RowNumber                                                                     \n",
       "1            15634602  Hargrave          619    France  Female   42     2.0   \n",
       "2            15647311      Hill          608     Spain  Female   41     1.0   \n",
       "3            15619304      Onio          502    France  Female   42     8.0   \n",
       "4            15701354      Boni          699    France  Female   39     1.0   \n",
       "5            15737888  Mitchell          850     Spain  Female   43     2.0   \n",
       "\n",
       "             Balance  NumOfProducts  HasCrCard  IsActiveMember  \\\n",
       "RowNumber                                                        \n",
       "1               0.00              1          1               1   \n",
       "2           83807.86              1          0               1   \n",
       "3          159660.80              3          1               0   \n",
       "4               0.00              2          0               0   \n",
       "5          125510.82              1          1               1   \n",
       "\n",
       "           EstimatedSalary  Exited  \n",
       "RowNumber                           \n",
       "1                101348.88       1  \n",
       "2                112542.58       0  \n",
       "3                113931.57       1  \n",
       "4                 93826.63       0  \n",
       "5                 79084.10       0  "
      ]
     },
     "execution_count": 3,
     "metadata": {},
     "output_type": "execute_result"
    }
   ],
   "source": [
    "data.head()"
   ]
  },
  {
   "cell_type": "code",
   "execution_count": 4,
   "metadata": {
    "scrolled": false
   },
   "outputs": [
    {
     "name": "stdout",
     "output_type": "stream",
     "text": [
      "<class 'pandas.core.frame.DataFrame'>\n",
      "Int64Index: 10000 entries, 1 to 10000\n",
      "Data columns (total 13 columns):\n",
      " #   Column           Non-Null Count  Dtype  \n",
      "---  ------           --------------  -----  \n",
      " 0   CustomerId       10000 non-null  int64  \n",
      " 1   Surname          10000 non-null  object \n",
      " 2   CreditScore      10000 non-null  int64  \n",
      " 3   Geography        10000 non-null  object \n",
      " 4   Gender           10000 non-null  object \n",
      " 5   Age              10000 non-null  int64  \n",
      " 6   Tenure           9091 non-null   float64\n",
      " 7   Balance          10000 non-null  float64\n",
      " 8   NumOfProducts    10000 non-null  int64  \n",
      " 9   HasCrCard        10000 non-null  int64  \n",
      " 10  IsActiveMember   10000 non-null  int64  \n",
      " 11  EstimatedSalary  10000 non-null  float64\n",
      " 12  Exited           10000 non-null  int64  \n",
      "dtypes: float64(3), int64(7), object(3)\n",
      "memory usage: 1.1+ MB\n"
     ]
    }
   ],
   "source": [
    "data.info()"
   ]
  },
  {
   "cell_type": "markdown",
   "metadata": {},
   "source": [
    "We can see that the dataset has 10,000 rows and 13 columns. All of the columns in the dataset have appropriate datatypes. There is no redundant columns. However there are 909 rows with missing `Tenure` values."
   ]
  },
  {
   "cell_type": "code",
   "execution_count": 5,
   "metadata": {
    "scrolled": false
   },
   "outputs": [
    {
     "data": {
      "text/html": [
       "<div>\n",
       "<style scoped>\n",
       "    .dataframe tbody tr th:only-of-type {\n",
       "        vertical-align: middle;\n",
       "    }\n",
       "\n",
       "    .dataframe tbody tr th {\n",
       "        vertical-align: top;\n",
       "    }\n",
       "\n",
       "    .dataframe thead th {\n",
       "        text-align: right;\n",
       "    }\n",
       "</style>\n",
       "<table border=\"1\" class=\"dataframe\">\n",
       "  <thead>\n",
       "    <tr style=\"text-align: right;\">\n",
       "      <th></th>\n",
       "      <th>CustomerId</th>\n",
       "      <th>Surname</th>\n",
       "      <th>CreditScore</th>\n",
       "      <th>Geography</th>\n",
       "      <th>Gender</th>\n",
       "      <th>Age</th>\n",
       "      <th>Tenure</th>\n",
       "      <th>Balance</th>\n",
       "      <th>NumOfProducts</th>\n",
       "      <th>HasCrCard</th>\n",
       "      <th>IsActiveMember</th>\n",
       "      <th>EstimatedSalary</th>\n",
       "      <th>Exited</th>\n",
       "    </tr>\n",
       "    <tr>\n",
       "      <th>RowNumber</th>\n",
       "      <th></th>\n",
       "      <th></th>\n",
       "      <th></th>\n",
       "      <th></th>\n",
       "      <th></th>\n",
       "      <th></th>\n",
       "      <th></th>\n",
       "      <th></th>\n",
       "      <th></th>\n",
       "      <th></th>\n",
       "      <th></th>\n",
       "      <th></th>\n",
       "      <th></th>\n",
       "    </tr>\n",
       "  </thead>\n",
       "  <tbody>\n",
       "    <tr>\n",
       "      <th>31</th>\n",
       "      <td>15589475</td>\n",
       "      <td>Azikiwe</td>\n",
       "      <td>591</td>\n",
       "      <td>Spain</td>\n",
       "      <td>Female</td>\n",
       "      <td>39</td>\n",
       "      <td>NaN</td>\n",
       "      <td>0.00</td>\n",
       "      <td>3</td>\n",
       "      <td>1</td>\n",
       "      <td>0</td>\n",
       "      <td>140469.38</td>\n",
       "      <td>1</td>\n",
       "    </tr>\n",
       "    <tr>\n",
       "      <th>49</th>\n",
       "      <td>15766205</td>\n",
       "      <td>Yin</td>\n",
       "      <td>550</td>\n",
       "      <td>Germany</td>\n",
       "      <td>Male</td>\n",
       "      <td>38</td>\n",
       "      <td>NaN</td>\n",
       "      <td>103391.38</td>\n",
       "      <td>1</td>\n",
       "      <td>0</td>\n",
       "      <td>1</td>\n",
       "      <td>90878.13</td>\n",
       "      <td>0</td>\n",
       "    </tr>\n",
       "    <tr>\n",
       "      <th>52</th>\n",
       "      <td>15768193</td>\n",
       "      <td>Trevisani</td>\n",
       "      <td>585</td>\n",
       "      <td>Germany</td>\n",
       "      <td>Male</td>\n",
       "      <td>36</td>\n",
       "      <td>NaN</td>\n",
       "      <td>146050.97</td>\n",
       "      <td>2</td>\n",
       "      <td>0</td>\n",
       "      <td>0</td>\n",
       "      <td>86424.57</td>\n",
       "      <td>0</td>\n",
       "    </tr>\n",
       "    <tr>\n",
       "      <th>54</th>\n",
       "      <td>15702298</td>\n",
       "      <td>Parkhill</td>\n",
       "      <td>655</td>\n",
       "      <td>Germany</td>\n",
       "      <td>Male</td>\n",
       "      <td>41</td>\n",
       "      <td>NaN</td>\n",
       "      <td>125561.97</td>\n",
       "      <td>1</td>\n",
       "      <td>0</td>\n",
       "      <td>0</td>\n",
       "      <td>164040.94</td>\n",
       "      <td>1</td>\n",
       "    </tr>\n",
       "    <tr>\n",
       "      <th>61</th>\n",
       "      <td>15651280</td>\n",
       "      <td>Hunter</td>\n",
       "      <td>742</td>\n",
       "      <td>Germany</td>\n",
       "      <td>Male</td>\n",
       "      <td>35</td>\n",
       "      <td>NaN</td>\n",
       "      <td>136857.00</td>\n",
       "      <td>1</td>\n",
       "      <td>0</td>\n",
       "      <td>0</td>\n",
       "      <td>84509.57</td>\n",
       "      <td>0</td>\n",
       "    </tr>\n",
       "  </tbody>\n",
       "</table>\n",
       "</div>"
      ],
      "text/plain": [
       "           CustomerId    Surname  CreditScore Geography  Gender  Age  Tenure  \\\n",
       "RowNumber                                                                      \n",
       "31           15589475    Azikiwe          591     Spain  Female   39     NaN   \n",
       "49           15766205        Yin          550   Germany    Male   38     NaN   \n",
       "52           15768193  Trevisani          585   Germany    Male   36     NaN   \n",
       "54           15702298   Parkhill          655   Germany    Male   41     NaN   \n",
       "61           15651280     Hunter          742   Germany    Male   35     NaN   \n",
       "\n",
       "             Balance  NumOfProducts  HasCrCard  IsActiveMember  \\\n",
       "RowNumber                                                        \n",
       "31              0.00              3          1               0   \n",
       "49         103391.38              1          0               1   \n",
       "52         146050.97              2          0               0   \n",
       "54         125561.97              1          0               0   \n",
       "61         136857.00              1          0               0   \n",
       "\n",
       "           EstimatedSalary  Exited  \n",
       "RowNumber                           \n",
       "31               140469.38       1  \n",
       "49                90878.13       0  \n",
       "52                86424.57       0  \n",
       "54               164040.94       1  \n",
       "61                84509.57       0  "
      ]
     },
     "execution_count": 5,
     "metadata": {},
     "output_type": "execute_result"
    }
   ],
   "source": [
    "data[data['Tenure'].isnull()].head()"
   ]
  },
  {
   "cell_type": "code",
   "execution_count": 6,
   "metadata": {},
   "outputs": [
    {
     "data": {
      "text/plain": [
       "array([ 2.,  1.,  8.,  7.,  4.,  6.,  3., 10.,  5.,  9.,  0.])"
      ]
     },
     "execution_count": 6,
     "metadata": {},
     "output_type": "execute_result"
    }
   ],
   "source": [
    "data.loc[data['Tenure'].notnull(),'Tenure'].unique()"
   ]
  },
  {
   "cell_type": "markdown",
   "metadata": {},
   "source": [
    "Observations with tenure equals to NaN seems to be because the customer doesn't have any fixed deposit. Therefore, we will set those values to 0."
   ]
  },
  {
   "cell_type": "code",
   "execution_count": 7,
   "metadata": {
    "scrolled": true
   },
   "outputs": [
    {
     "data": {
      "text/plain": [
       "0"
      ]
     },
     "execution_count": 7,
     "metadata": {},
     "output_type": "execute_result"
    }
   ],
   "source": [
    "data.duplicated().sum()"
   ]
  },
  {
   "cell_type": "markdown",
   "metadata": {},
   "source": [
    "There is no duplicated data in the dataset."
   ]
  },
  {
   "cell_type": "code",
   "execution_count": 8,
   "metadata": {
    "scrolled": true
   },
   "outputs": [
    {
     "data": {
      "text/html": [
       "<div>\n",
       "<style scoped>\n",
       "    .dataframe tbody tr th:only-of-type {\n",
       "        vertical-align: middle;\n",
       "    }\n",
       "\n",
       "    .dataframe tbody tr th {\n",
       "        vertical-align: top;\n",
       "    }\n",
       "\n",
       "    .dataframe thead th {\n",
       "        text-align: right;\n",
       "    }\n",
       "</style>\n",
       "<table border=\"1\" class=\"dataframe\">\n",
       "  <thead>\n",
       "    <tr style=\"text-align: right;\">\n",
       "      <th></th>\n",
       "      <th>CustomerId</th>\n",
       "      <th>CreditScore</th>\n",
       "      <th>Age</th>\n",
       "      <th>Tenure</th>\n",
       "      <th>Balance</th>\n",
       "      <th>NumOfProducts</th>\n",
       "      <th>HasCrCard</th>\n",
       "      <th>IsActiveMember</th>\n",
       "      <th>EstimatedSalary</th>\n",
       "      <th>Exited</th>\n",
       "    </tr>\n",
       "  </thead>\n",
       "  <tbody>\n",
       "    <tr>\n",
       "      <th>count</th>\n",
       "      <td>1.000000e+04</td>\n",
       "      <td>10000.000000</td>\n",
       "      <td>10000.000000</td>\n",
       "      <td>9091.000000</td>\n",
       "      <td>10000.000000</td>\n",
       "      <td>10000.000000</td>\n",
       "      <td>10000.00000</td>\n",
       "      <td>10000.000000</td>\n",
       "      <td>10000.000000</td>\n",
       "      <td>10000.000000</td>\n",
       "    </tr>\n",
       "    <tr>\n",
       "      <th>mean</th>\n",
       "      <td>1.569094e+07</td>\n",
       "      <td>650.528800</td>\n",
       "      <td>38.921800</td>\n",
       "      <td>4.997690</td>\n",
       "      <td>76485.889288</td>\n",
       "      <td>1.530200</td>\n",
       "      <td>0.70550</td>\n",
       "      <td>0.515100</td>\n",
       "      <td>100090.239881</td>\n",
       "      <td>0.203700</td>\n",
       "    </tr>\n",
       "    <tr>\n",
       "      <th>std</th>\n",
       "      <td>7.193619e+04</td>\n",
       "      <td>96.653299</td>\n",
       "      <td>10.487806</td>\n",
       "      <td>2.894723</td>\n",
       "      <td>62397.405202</td>\n",
       "      <td>0.581654</td>\n",
       "      <td>0.45584</td>\n",
       "      <td>0.499797</td>\n",
       "      <td>57510.492818</td>\n",
       "      <td>0.402769</td>\n",
       "    </tr>\n",
       "    <tr>\n",
       "      <th>min</th>\n",
       "      <td>1.556570e+07</td>\n",
       "      <td>350.000000</td>\n",
       "      <td>18.000000</td>\n",
       "      <td>0.000000</td>\n",
       "      <td>0.000000</td>\n",
       "      <td>1.000000</td>\n",
       "      <td>0.00000</td>\n",
       "      <td>0.000000</td>\n",
       "      <td>11.580000</td>\n",
       "      <td>0.000000</td>\n",
       "    </tr>\n",
       "    <tr>\n",
       "      <th>25%</th>\n",
       "      <td>1.562853e+07</td>\n",
       "      <td>584.000000</td>\n",
       "      <td>32.000000</td>\n",
       "      <td>2.000000</td>\n",
       "      <td>0.000000</td>\n",
       "      <td>1.000000</td>\n",
       "      <td>0.00000</td>\n",
       "      <td>0.000000</td>\n",
       "      <td>51002.110000</td>\n",
       "      <td>0.000000</td>\n",
       "    </tr>\n",
       "    <tr>\n",
       "      <th>50%</th>\n",
       "      <td>1.569074e+07</td>\n",
       "      <td>652.000000</td>\n",
       "      <td>37.000000</td>\n",
       "      <td>5.000000</td>\n",
       "      <td>97198.540000</td>\n",
       "      <td>1.000000</td>\n",
       "      <td>1.00000</td>\n",
       "      <td>1.000000</td>\n",
       "      <td>100193.915000</td>\n",
       "      <td>0.000000</td>\n",
       "    </tr>\n",
       "    <tr>\n",
       "      <th>75%</th>\n",
       "      <td>1.575323e+07</td>\n",
       "      <td>718.000000</td>\n",
       "      <td>44.000000</td>\n",
       "      <td>7.000000</td>\n",
       "      <td>127644.240000</td>\n",
       "      <td>2.000000</td>\n",
       "      <td>1.00000</td>\n",
       "      <td>1.000000</td>\n",
       "      <td>149388.247500</td>\n",
       "      <td>0.000000</td>\n",
       "    </tr>\n",
       "    <tr>\n",
       "      <th>max</th>\n",
       "      <td>1.581569e+07</td>\n",
       "      <td>850.000000</td>\n",
       "      <td>92.000000</td>\n",
       "      <td>10.000000</td>\n",
       "      <td>250898.090000</td>\n",
       "      <td>4.000000</td>\n",
       "      <td>1.00000</td>\n",
       "      <td>1.000000</td>\n",
       "      <td>199992.480000</td>\n",
       "      <td>1.000000</td>\n",
       "    </tr>\n",
       "  </tbody>\n",
       "</table>\n",
       "</div>"
      ],
      "text/plain": [
       "         CustomerId   CreditScore           Age       Tenure        Balance  \\\n",
       "count  1.000000e+04  10000.000000  10000.000000  9091.000000   10000.000000   \n",
       "mean   1.569094e+07    650.528800     38.921800     4.997690   76485.889288   \n",
       "std    7.193619e+04     96.653299     10.487806     2.894723   62397.405202   \n",
       "min    1.556570e+07    350.000000     18.000000     0.000000       0.000000   \n",
       "25%    1.562853e+07    584.000000     32.000000     2.000000       0.000000   \n",
       "50%    1.569074e+07    652.000000     37.000000     5.000000   97198.540000   \n",
       "75%    1.575323e+07    718.000000     44.000000     7.000000  127644.240000   \n",
       "max    1.581569e+07    850.000000     92.000000    10.000000  250898.090000   \n",
       "\n",
       "       NumOfProducts    HasCrCard  IsActiveMember  EstimatedSalary  \\\n",
       "count   10000.000000  10000.00000    10000.000000     10000.000000   \n",
       "mean        1.530200      0.70550        0.515100    100090.239881   \n",
       "std         0.581654      0.45584        0.499797     57510.492818   \n",
       "min         1.000000      0.00000        0.000000        11.580000   \n",
       "25%         1.000000      0.00000        0.000000     51002.110000   \n",
       "50%         1.000000      1.00000        1.000000    100193.915000   \n",
       "75%         2.000000      1.00000        1.000000    149388.247500   \n",
       "max         4.000000      1.00000        1.000000    199992.480000   \n",
       "\n",
       "             Exited  \n",
       "count  10000.000000  \n",
       "mean       0.203700  \n",
       "std        0.402769  \n",
       "min        0.000000  \n",
       "25%        0.000000  \n",
       "50%        0.000000  \n",
       "75%        0.000000  \n",
       "max        1.000000  "
      ]
     },
     "execution_count": 8,
     "metadata": {},
     "output_type": "execute_result"
    }
   ],
   "source": [
    "data.describe()"
   ]
  },
  {
   "cell_type": "code",
   "execution_count": 9,
   "metadata": {},
   "outputs": [
    {
     "data": {
      "image/png": "[encoded data removed]",
      "text/plain": [
       "<Figure size 1400x200 with 1 Axes>"
      ]
     },
     "metadata": {},
     "output_type": "display_data"
    }
   ],
   "source": [
    "plt.figure(figsize=(14,2))\n",
    "sns.boxplot(data=data, x='Balance')\n",
    "plt.show()"
   ]
  },
  {
   "cell_type": "code",
   "execution_count": 10,
   "metadata": {
    "scrolled": true
   },
   "outputs": [
    {
     "data": {
      "image/png": "[encoded data removed]",
      "text/plain": [
       "<Figure size 1400x200 with 1 Axes>"
      ]
     },
     "metadata": {},
     "output_type": "display_data"
    }
   ],
   "source": [
    "plt.figure(figsize=(14,2))\n",
    "sns.boxplot(data=data, x='EstimatedSalary')\n",
    "plt.show()"
   ]
  },
  {
   "cell_type": "markdown",
   "metadata": {},
   "source": [
    "The center and dispersion of the data seems to be reasonable."
   ]
  },
  {
   "cell_type": "markdown",
   "metadata": {},
   "source": [
    "[back to table of contents](#back)"
   ]
  },
  {
   "cell_type": "markdown",
   "metadata": {},
   "source": [
    "## 4. Preprocessing <a id='pre'></a>"
   ]
  },
  {
   "cell_type": "markdown",
   "metadata": {},
   "source": [
    "### 4.1. Handling Missing Values"
   ]
  },
  {
   "cell_type": "markdown",
   "metadata": {},
   "source": [
    "As previously stated, we will fill missing values in `Tenure` column with 0."
   ]
  },
  {
   "cell_type": "code",
   "execution_count": 11,
   "metadata": {},
   "outputs": [],
   "source": [
    "data['Tenure'].fillna(0, inplace=True)"
   ]
  },
  {
   "cell_type": "markdown",
   "metadata": {},
   "source": [
    "### 4.2. Defining Features and Target Columns"
   ]
  },
  {
   "cell_type": "markdown",
   "metadata": {},
   "source": [
    "Because `Customerid` and `Surname` are unique identifiers of the customers, we will not use these as features for the ML model. The features for the model are all of the columns except `Customerid`, `Surname`, and `Exited` columns. Whereas the target is the `Exited` column."
   ]
  },
  {
   "cell_type": "code",
   "execution_count": 12,
   "metadata": {},
   "outputs": [],
   "source": [
    "features = data.drop(['CustomerId','Surname','Exited'], axis=1)\n",
    "target = data['Exited']"
   ]
  },
  {
   "cell_type": "markdown",
   "metadata": {},
   "source": [
    "Split the data into training dataset and validation dataset"
   ]
  },
  {
   "cell_type": "code",
   "execution_count": 13,
   "metadata": {},
   "outputs": [
    {
     "data": {
      "text/plain": [
       "((7500, 10), (2500, 10), (7500,), (2500,))"
      ]
     },
     "execution_count": 13,
     "metadata": {},
     "output_type": "execute_result"
    }
   ],
   "source": [
    "features_train, features_valid, target_train, target_valid = train_test_split(\n",
    "    features, target, test_size=0.25, random_state=123)\n",
    "\n",
    "features_train.shape, features_valid.shape, target_train.shape, target_valid.shape"
   ]
  },
  {
   "cell_type": "markdown",
   "metadata": {},
   "source": [
    "Define numerical and categorical columns."
   ]
  },
  {
   "cell_type": "code",
   "execution_count": 14,
   "metadata": {},
   "outputs": [],
   "source": [
    "numerical = ['CreditScore', 'Age', 'Tenure', 'Balance',\\\n",
    "             'NumOfProducts', 'HasCrCard', 'IsActiveMember', 'EstimatedSalary']\n",
    "categorical = ['Geography', 'Gender']"
   ]
  },
  {
   "cell_type": "markdown",
   "metadata": {},
   "source": [
    "### 4.3. Data Transformation"
   ]
  },
  {
   "cell_type": "markdown",
   "metadata": {},
   "source": [
    "#### 4.3.1. One Hot Encoding for Categorical Data"
   ]
  },
  {
   "cell_type": "markdown",
   "metadata": {},
   "source": [
    "We will transform categorical data into numerical by using dummy columns and remove the first column so that the resulting columns are not redundant and prevent multicollinearity."
   ]
  },
  {
   "cell_type": "code",
   "execution_count": 15,
   "metadata": {},
   "outputs": [],
   "source": [
    "features_train = pd.get_dummies(features_train, columns=categorical, drop_first=True)\n",
    "features_valid = pd.get_dummies(features_valid, columns=categorical, drop_first=True)"
   ]
  },
  {
   "cell_type": "markdown",
   "metadata": {},
   "source": [
    "#### 4.3.2. Feature Scaling"
   ]
  },
  {
   "cell_type": "markdown",
   "metadata": {},
   "source": [
    "We will then standardize the numerical data so that the scale is comparable between each other."
   ]
  },
  {
   "cell_type": "code",
   "execution_count": 16,
   "metadata": {},
   "outputs": [],
   "source": [
    "scaler = StandardScaler()\n",
    "features_train[numerical] = scaler.fit_transform(features_train[numerical])\n",
    "features_valid[numerical] = scaler.transform(features_valid[numerical])"
   ]
  },
  {
   "cell_type": "markdown",
   "metadata": {},
   "source": [
    "#### 4.3.3. Check Final Features"
   ]
  },
  {
   "cell_type": "code",
   "execution_count": 17,
   "metadata": {
    "scrolled": false
   },
   "outputs": [
    {
     "data": {
      "text/html": [
       "<div>\n",
       "<style scoped>\n",
       "    .dataframe tbody tr th:only-of-type {\n",
       "        vertical-align: middle;\n",
       "    }\n",
       "\n",
       "    .dataframe tbody tr th {\n",
       "        vertical-align: top;\n",
       "    }\n",
       "\n",
       "    .dataframe thead th {\n",
       "        text-align: right;\n",
       "    }\n",
       "</style>\n",
       "<table border=\"1\" class=\"dataframe\">\n",
       "  <thead>\n",
       "    <tr style=\"text-align: right;\">\n",
       "      <th></th>\n",
       "      <th>CreditScore</th>\n",
       "      <th>Age</th>\n",
       "      <th>Tenure</th>\n",
       "      <th>Balance</th>\n",
       "      <th>NumOfProducts</th>\n",
       "      <th>HasCrCard</th>\n",
       "      <th>IsActiveMember</th>\n",
       "      <th>EstimatedSalary</th>\n",
       "      <th>Geography_Germany</th>\n",
       "      <th>Geography_Spain</th>\n",
       "      <th>Gender_Male</th>\n",
       "    </tr>\n",
       "    <tr>\n",
       "      <th>RowNumber</th>\n",
       "      <th></th>\n",
       "      <th></th>\n",
       "      <th></th>\n",
       "      <th></th>\n",
       "      <th></th>\n",
       "      <th></th>\n",
       "      <th></th>\n",
       "      <th></th>\n",
       "      <th></th>\n",
       "      <th></th>\n",
       "      <th></th>\n",
       "    </tr>\n",
       "  </thead>\n",
       "  <tbody>\n",
       "    <tr>\n",
       "      <th>9175</th>\n",
       "      <td>-1.251581</td>\n",
       "      <td>2.091987</td>\n",
       "      <td>-1.130215</td>\n",
       "      <td>-1.215055</td>\n",
       "      <td>0.794902</td>\n",
       "      <td>0.647388</td>\n",
       "      <td>0.972122</td>\n",
       "      <td>1.590503</td>\n",
       "      <td>0</td>\n",
       "      <td>0</td>\n",
       "      <td>1</td>\n",
       "    </tr>\n",
       "    <tr>\n",
       "      <th>4380</th>\n",
       "      <td>0.196946</td>\n",
       "      <td>-0.935052</td>\n",
       "      <td>0.794538</td>\n",
       "      <td>-1.215055</td>\n",
       "      <td>0.794902</td>\n",
       "      <td>0.647388</td>\n",
       "      <td>0.972122</td>\n",
       "      <td>0.665504</td>\n",
       "      <td>0</td>\n",
       "      <td>0</td>\n",
       "      <td>1</td>\n",
       "    </tr>\n",
       "    <tr>\n",
       "      <th>542</th>\n",
       "      <td>-0.289345</td>\n",
       "      <td>-1.218837</td>\n",
       "      <td>-1.451007</td>\n",
       "      <td>-1.215055</td>\n",
       "      <td>0.794902</td>\n",
       "      <td>0.647388</td>\n",
       "      <td>0.972122</td>\n",
       "      <td>0.927786</td>\n",
       "      <td>0</td>\n",
       "      <td>0</td>\n",
       "      <td>1</td>\n",
       "    </tr>\n",
       "    <tr>\n",
       "      <th>7252</th>\n",
       "      <td>0.766010</td>\n",
       "      <td>-0.745862</td>\n",
       "      <td>-1.451007</td>\n",
       "      <td>0.985079</td>\n",
       "      <td>-0.919727</td>\n",
       "      <td>0.647388</td>\n",
       "      <td>-1.028678</td>\n",
       "      <td>-1.510774</td>\n",
       "      <td>1</td>\n",
       "      <td>0</td>\n",
       "      <td>1</td>\n",
       "    </tr>\n",
       "    <tr>\n",
       "      <th>1136</th>\n",
       "      <td>0.859130</td>\n",
       "      <td>-0.745862</td>\n",
       "      <td>0.473746</td>\n",
       "      <td>1.297580</td>\n",
       "      <td>0.794902</td>\n",
       "      <td>-1.544670</td>\n",
       "      <td>-1.028678</td>\n",
       "      <td>1.358040</td>\n",
       "      <td>1</td>\n",
       "      <td>0</td>\n",
       "      <td>1</td>\n",
       "    </tr>\n",
       "    <tr>\n",
       "      <th>...</th>\n",
       "      <td>...</td>\n",
       "      <td>...</td>\n",
       "      <td>...</td>\n",
       "      <td>...</td>\n",
       "      <td>...</td>\n",
       "      <td>...</td>\n",
       "      <td>...</td>\n",
       "      <td>...</td>\n",
       "      <td>...</td>\n",
       "      <td>...</td>\n",
       "      <td>...</td>\n",
       "    </tr>\n",
       "    <tr>\n",
       "      <th>9786</th>\n",
       "      <td>-2.017232</td>\n",
       "      <td>-1.124242</td>\n",
       "      <td>0.152954</td>\n",
       "      <td>1.267134</td>\n",
       "      <td>0.794902</td>\n",
       "      <td>-1.544670</td>\n",
       "      <td>-1.028678</td>\n",
       "      <td>-0.505325</td>\n",
       "      <td>0</td>\n",
       "      <td>0</td>\n",
       "      <td>0</td>\n",
       "    </tr>\n",
       "    <tr>\n",
       "      <th>7764</th>\n",
       "      <td>-0.372118</td>\n",
       "      <td>-0.272888</td>\n",
       "      <td>-1.130215</td>\n",
       "      <td>-0.513534</td>\n",
       "      <td>-0.919727</td>\n",
       "      <td>0.647388</td>\n",
       "      <td>0.972122</td>\n",
       "      <td>-0.460937</td>\n",
       "      <td>0</td>\n",
       "      <td>1</td>\n",
       "      <td>0</td>\n",
       "    </tr>\n",
       "    <tr>\n",
       "      <th>5219</th>\n",
       "      <td>0.362492</td>\n",
       "      <td>-1.786407</td>\n",
       "      <td>-0.167838</td>\n",
       "      <td>0.452485</td>\n",
       "      <td>0.794902</td>\n",
       "      <td>0.647388</td>\n",
       "      <td>-1.028678</td>\n",
       "      <td>-1.062903</td>\n",
       "      <td>0</td>\n",
       "      <td>0</td>\n",
       "      <td>1</td>\n",
       "    </tr>\n",
       "    <tr>\n",
       "      <th>1347</th>\n",
       "      <td>-0.072066</td>\n",
       "      <td>-0.840457</td>\n",
       "      <td>0.152954</td>\n",
       "      <td>0.288849</td>\n",
       "      <td>-0.919727</td>\n",
       "      <td>0.647388</td>\n",
       "      <td>0.972122</td>\n",
       "      <td>1.142882</td>\n",
       "      <td>0</td>\n",
       "      <td>0</td>\n",
       "      <td>1</td>\n",
       "    </tr>\n",
       "    <tr>\n",
       "      <th>3583</th>\n",
       "      <td>0.372839</td>\n",
       "      <td>-0.367483</td>\n",
       "      <td>-0.167838</td>\n",
       "      <td>-1.215055</td>\n",
       "      <td>-0.919727</td>\n",
       "      <td>0.647388</td>\n",
       "      <td>-1.028678</td>\n",
       "      <td>-1.582098</td>\n",
       "      <td>0</td>\n",
       "      <td>0</td>\n",
       "      <td>1</td>\n",
       "    </tr>\n",
       "  </tbody>\n",
       "</table>\n",
       "<p>7500 rows × 11 columns</p>\n",
       "</div>"
      ],
      "text/plain": [
       "           CreditScore       Age    Tenure   Balance  NumOfProducts  \\\n",
       "RowNumber                                                             \n",
       "9175         -1.251581  2.091987 -1.130215 -1.215055       0.794902   \n",
       "4380          0.196946 -0.935052  0.794538 -1.215055       0.794902   \n",
       "542          -0.289345 -1.218837 -1.451007 -1.215055       0.794902   \n",
       "7252          0.766010 -0.745862 -1.451007  0.985079      -0.919727   \n",
       "1136          0.859130 -0.745862  0.473746  1.297580       0.794902   \n",
       "...                ...       ...       ...       ...            ...   \n",
       "9786         -2.017232 -1.124242  0.152954  1.267134       0.794902   \n",
       "7764         -0.372118 -0.272888 -1.130215 -0.513534      -0.919727   \n",
       "5219          0.362492 -1.786407 -0.167838  0.452485       0.794902   \n",
       "1347         -0.072066 -0.840457  0.152954  0.288849      -0.919727   \n",
       "3583          0.372839 -0.367483 -0.167838 -1.215055      -0.919727   \n",
       "\n",
       "           HasCrCard  IsActiveMember  EstimatedSalary  Geography_Germany  \\\n",
       "RowNumber                                                                  \n",
       "9175        0.647388        0.972122         1.590503                  0   \n",
       "4380        0.647388        0.972122         0.665504                  0   \n",
       "542         0.647388        0.972122         0.927786                  0   \n",
       "7252        0.647388       -1.028678        -1.510774                  1   \n",
       "1136       -1.544670       -1.028678         1.358040                  1   \n",
       "...              ...             ...              ...                ...   \n",
       "9786       -1.544670       -1.028678        -0.505325                  0   \n",
       "7764        0.647388        0.972122        -0.460937                  0   \n",
       "5219        0.647388       -1.028678        -1.062903                  0   \n",
       "1347        0.647388        0.972122         1.142882                  0   \n",
       "3583        0.647388       -1.028678        -1.582098                  0   \n",
       "\n",
       "           Geography_Spain  Gender_Male  \n",
       "RowNumber                                \n",
       "9175                     0            1  \n",
       "4380                     0            1  \n",
       "542                      0            1  \n",
       "7252                     0            1  \n",
       "1136                     0            1  \n",
       "...                    ...          ...  \n",
       "9786                     0            0  \n",
       "7764                     1            0  \n",
       "5219                     0            1  \n",
       "1347                     0            1  \n",
       "3583                     0            1  \n",
       "\n",
       "[7500 rows x 11 columns]"
      ]
     },
     "execution_count": 17,
     "metadata": {},
     "output_type": "execute_result"
    }
   ],
   "source": [
    "features_train"
   ]
  },
  {
   "cell_type": "code",
   "execution_count": 18,
   "metadata": {
    "scrolled": true
   },
   "outputs": [
    {
     "data": {
      "text/html": [
       "<div>\n",
       "<style scoped>\n",
       "    .dataframe tbody tr th:only-of-type {\n",
       "        vertical-align: middle;\n",
       "    }\n",
       "\n",
       "    .dataframe tbody tr th {\n",
       "        vertical-align: top;\n",
       "    }\n",
       "\n",
       "    .dataframe thead th {\n",
       "        text-align: right;\n",
       "    }\n",
       "</style>\n",
       "<table border=\"1\" class=\"dataframe\">\n",
       "  <thead>\n",
       "    <tr style=\"text-align: right;\">\n",
       "      <th></th>\n",
       "      <th>CreditScore</th>\n",
       "      <th>Age</th>\n",
       "      <th>Tenure</th>\n",
       "      <th>Balance</th>\n",
       "      <th>NumOfProducts</th>\n",
       "      <th>HasCrCard</th>\n",
       "      <th>IsActiveMember</th>\n",
       "      <th>EstimatedSalary</th>\n",
       "      <th>Geography_Germany</th>\n",
       "      <th>Geography_Spain</th>\n",
       "      <th>Gender_Male</th>\n",
       "    </tr>\n",
       "    <tr>\n",
       "      <th>RowNumber</th>\n",
       "      <th></th>\n",
       "      <th></th>\n",
       "      <th></th>\n",
       "      <th></th>\n",
       "      <th></th>\n",
       "      <th></th>\n",
       "      <th></th>\n",
       "      <th></th>\n",
       "      <th></th>\n",
       "      <th></th>\n",
       "      <th></th>\n",
       "    </tr>\n",
       "  </thead>\n",
       "  <tbody>\n",
       "    <tr>\n",
       "      <th>2657</th>\n",
       "      <td>1.335075</td>\n",
       "      <td>-0.462078</td>\n",
       "      <td>0.152954</td>\n",
       "      <td>-1.215055</td>\n",
       "      <td>0.794902</td>\n",
       "      <td>-1.544670</td>\n",
       "      <td>0.972122</td>\n",
       "      <td>0.205502</td>\n",
       "      <td>0</td>\n",
       "      <td>1</td>\n",
       "      <td>0</td>\n",
       "    </tr>\n",
       "    <tr>\n",
       "      <th>446</th>\n",
       "      <td>1.014329</td>\n",
       "      <td>-1.218837</td>\n",
       "      <td>-1.130215</td>\n",
       "      <td>0.023503</td>\n",
       "      <td>-0.919727</td>\n",
       "      <td>-1.544670</td>\n",
       "      <td>0.972122</td>\n",
       "      <td>1.445883</td>\n",
       "      <td>0</td>\n",
       "      <td>0</td>\n",
       "      <td>0</td>\n",
       "    </tr>\n",
       "    <tr>\n",
       "      <th>9506</th>\n",
       "      <td>0.010707</td>\n",
       "      <td>-1.029647</td>\n",
       "      <td>1.756914</td>\n",
       "      <td>0.051890</td>\n",
       "      <td>-0.919727</td>\n",
       "      <td>0.647388</td>\n",
       "      <td>0.972122</td>\n",
       "      <td>-0.437331</td>\n",
       "      <td>0</td>\n",
       "      <td>0</td>\n",
       "      <td>1</td>\n",
       "    </tr>\n",
       "    <tr>\n",
       "      <th>333</th>\n",
       "      <td>0.134866</td>\n",
       "      <td>0.483872</td>\n",
       "      <td>-0.809422</td>\n",
       "      <td>0.648486</td>\n",
       "      <td>0.794902</td>\n",
       "      <td>-1.544670</td>\n",
       "      <td>0.972122</td>\n",
       "      <td>0.779068</td>\n",
       "      <td>1</td>\n",
       "      <td>0</td>\n",
       "      <td>1</td>\n",
       "    </tr>\n",
       "    <tr>\n",
       "      <th>4169</th>\n",
       "      <td>-1.386088</td>\n",
       "      <td>-0.178293</td>\n",
       "      <td>1.115330</td>\n",
       "      <td>-1.215055</td>\n",
       "      <td>-0.919727</td>\n",
       "      <td>0.647388</td>\n",
       "      <td>-1.028678</td>\n",
       "      <td>0.034458</td>\n",
       "      <td>0</td>\n",
       "      <td>0</td>\n",
       "      <td>1</td>\n",
       "    </tr>\n",
       "    <tr>\n",
       "      <th>...</th>\n",
       "      <td>...</td>\n",
       "      <td>...</td>\n",
       "      <td>...</td>\n",
       "      <td>...</td>\n",
       "      <td>...</td>\n",
       "      <td>...</td>\n",
       "      <td>...</td>\n",
       "      <td>...</td>\n",
       "      <td>...</td>\n",
       "      <td>...</td>\n",
       "      <td>...</td>\n",
       "    </tr>\n",
       "    <tr>\n",
       "      <th>398</th>\n",
       "      <td>-1.065342</td>\n",
       "      <td>-0.651268</td>\n",
       "      <td>1.115330</td>\n",
       "      <td>1.264709</td>\n",
       "      <td>-0.919727</td>\n",
       "      <td>0.647388</td>\n",
       "      <td>-1.028678</td>\n",
       "      <td>-0.557200</td>\n",
       "      <td>1</td>\n",
       "      <td>0</td>\n",
       "      <td>1</td>\n",
       "    </tr>\n",
       "    <tr>\n",
       "      <th>5553</th>\n",
       "      <td>-0.237612</td>\n",
       "      <td>0.200087</td>\n",
       "      <td>-0.488630</td>\n",
       "      <td>-1.215055</td>\n",
       "      <td>0.794902</td>\n",
       "      <td>0.647388</td>\n",
       "      <td>-1.028678</td>\n",
       "      <td>0.571209</td>\n",
       "      <td>0</td>\n",
       "      <td>0</td>\n",
       "      <td>1</td>\n",
       "    </tr>\n",
       "    <tr>\n",
       "      <th>1454</th>\n",
       "      <td>0.227986</td>\n",
       "      <td>1.335227</td>\n",
       "      <td>0.794538</td>\n",
       "      <td>-1.215055</td>\n",
       "      <td>-0.919727</td>\n",
       "      <td>0.647388</td>\n",
       "      <td>0.972122</td>\n",
       "      <td>0.644033</td>\n",
       "      <td>0</td>\n",
       "      <td>0</td>\n",
       "      <td>0</td>\n",
       "    </tr>\n",
       "    <tr>\n",
       "      <th>4470</th>\n",
       "      <td>-0.392812</td>\n",
       "      <td>-0.556673</td>\n",
       "      <td>0.152954</td>\n",
       "      <td>-0.108692</td>\n",
       "      <td>-0.919727</td>\n",
       "      <td>0.647388</td>\n",
       "      <td>-1.028678</td>\n",
       "      <td>-1.579364</td>\n",
       "      <td>0</td>\n",
       "      <td>1</td>\n",
       "      <td>1</td>\n",
       "    </tr>\n",
       "    <tr>\n",
       "      <th>2414</th>\n",
       "      <td>1.707553</td>\n",
       "      <td>-1.313432</td>\n",
       "      <td>-1.451007</td>\n",
       "      <td>0.937233</td>\n",
       "      <td>-0.919727</td>\n",
       "      <td>0.647388</td>\n",
       "      <td>0.972122</td>\n",
       "      <td>0.629450</td>\n",
       "      <td>1</td>\n",
       "      <td>0</td>\n",
       "      <td>0</td>\n",
       "    </tr>\n",
       "  </tbody>\n",
       "</table>\n",
       "<p>2500 rows × 11 columns</p>\n",
       "</div>"
      ],
      "text/plain": [
       "           CreditScore       Age    Tenure   Balance  NumOfProducts  \\\n",
       "RowNumber                                                             \n",
       "2657          1.335075 -0.462078  0.152954 -1.215055       0.794902   \n",
       "446           1.014329 -1.218837 -1.130215  0.023503      -0.919727   \n",
       "9506          0.010707 -1.029647  1.756914  0.051890      -0.919727   \n",
       "333           0.134866  0.483872 -0.809422  0.648486       0.794902   \n",
       "4169         -1.386088 -0.178293  1.115330 -1.215055      -0.919727   \n",
       "...                ...       ...       ...       ...            ...   \n",
       "398          -1.065342 -0.651268  1.115330  1.264709      -0.919727   \n",
       "5553         -0.237612  0.200087 -0.488630 -1.215055       0.794902   \n",
       "1454          0.227986  1.335227  0.794538 -1.215055      -0.919727   \n",
       "4470         -0.392812 -0.556673  0.152954 -0.108692      -0.919727   \n",
       "2414          1.707553 -1.313432 -1.451007  0.937233      -0.919727   \n",
       "\n",
       "           HasCrCard  IsActiveMember  EstimatedSalary  Geography_Germany  \\\n",
       "RowNumber                                                                  \n",
       "2657       -1.544670        0.972122         0.205502                  0   \n",
       "446        -1.544670        0.972122         1.445883                  0   \n",
       "9506        0.647388        0.972122        -0.437331                  0   \n",
       "333        -1.544670        0.972122         0.779068                  1   \n",
       "4169        0.647388       -1.028678         0.034458                  0   \n",
       "...              ...             ...              ...                ...   \n",
       "398         0.647388       -1.028678        -0.557200                  1   \n",
       "5553        0.647388       -1.028678         0.571209                  0   \n",
       "1454        0.647388        0.972122         0.644033                  0   \n",
       "4470        0.647388       -1.028678        -1.579364                  0   \n",
       "2414        0.647388        0.972122         0.629450                  1   \n",
       "\n",
       "           Geography_Spain  Gender_Male  \n",
       "RowNumber                                \n",
       "2657                     1            0  \n",
       "446                      0            0  \n",
       "9506                     0            1  \n",
       "333                      0            1  \n",
       "4169                     0            1  \n",
       "...                    ...          ...  \n",
       "398                      0            1  \n",
       "5553                     0            1  \n",
       "1454                     0            0  \n",
       "4470                     1            1  \n",
       "2414                     0            0  \n",
       "\n",
       "[2500 rows x 11 columns]"
      ]
     },
     "execution_count": 18,
     "metadata": {},
     "output_type": "execute_result"
    }
   ],
   "source": [
    "features_valid"
   ]
  },
  {
   "cell_type": "markdown",
   "metadata": {},
   "source": [
    "[back to table of contents](#back)"
   ]
  },
  {
   "cell_type": "markdown",
   "metadata": {},
   "source": [
    "## 5. Model Training and Validation <a id='train'></a>"
   ]
  },
  {
   "cell_type": "markdown",
   "metadata": {},
   "source": [
    "### 5.1. First Model <a id='1'></a>"
   ]
  },
  {
   "cell_type": "markdown",
   "metadata": {},
   "source": [
    "We will build model using Random Forest algorithm."
   ]
  },
  {
   "cell_type": "code",
   "execution_count": 19,
   "metadata": {
    "scrolled": false
   },
   "outputs": [
    {
     "data": {
      "text/plain": [
       "'Accuracy score = 0.8628, depth = 20, n_estimators = 31'"
      ]
     },
     "execution_count": 19,
     "metadata": {},
     "output_type": "execute_result"
    }
   ],
   "source": [
    "best_model1 = 0\n",
    "best_model1_score = 0\n",
    "best_model1_depth = 0\n",
    "best_model1_est = 0\n",
    "best_predicted_valid1 = 0\n",
    "\n",
    "for est in range(1,51,10):\n",
    "    for depth in range(1,21):\n",
    "        model1 = RandomForestClassifier(random_state=123, max_depth=depth, n_estimators=est)\n",
    "        model1.fit(features_train, target_train)\n",
    "        predicted_valid1 = pd.Series(model1.predict(features_valid), index=target_valid.index)\n",
    "        acc_score1 = accuracy_score(target_valid, predicted_valid1)\n",
    "        if acc_score1 > best_model1_score :\n",
    "            best_model1 = model1\n",
    "            best_model1_score = acc_score1\n",
    "            best_model1_depth = depth\n",
    "            best_model1_est = est\n",
    "            best_predicted_valid1 = predicted_valid1\n",
    "            \n",
    "f'Accuracy score = {best_model1_score}, depth = {best_model1_depth}, n_estimators = {best_model1_est}'"
   ]
  },
  {
   "cell_type": "markdown",
   "metadata": {},
   "source": [
    "We achieve 86% accuracy score with depth equals to 20 and n_estimators equals to 31. It is highly likely that the classes are imbalanced."
   ]
  },
  {
   "cell_type": "markdown",
   "metadata": {},
   "source": [
    "[back to table of contents](#back)"
   ]
  },
  {
   "cell_type": "markdown",
   "metadata": {},
   "source": [
    "### 5.2. Second Model <a id='2'></a>"
   ]
  },
  {
   "cell_type": "markdown",
   "metadata": {},
   "source": [
    "Next, we will build a model using Logistic Regression algorithm."
   ]
  },
  {
   "cell_type": "code",
   "execution_count": 20,
   "metadata": {},
   "outputs": [],
   "source": [
    "model2 = LogisticRegression(random_state=123, solver='liblinear')\n",
    "model2.fit(features_train, target_train)\n",
    "predicted_valid2 = pd.Series(model2.predict(features_valid), index=target_valid.index)\n",
    "acc_score2 = accuracy_score(target_valid, predicted_valid2)"
   ]
  },
  {
   "cell_type": "code",
   "execution_count": 21,
   "metadata": {},
   "outputs": [
    {
     "data": {
      "text/plain": [
       "0.8136"
      ]
     },
     "execution_count": 21,
     "metadata": {},
     "output_type": "execute_result"
    }
   ],
   "source": [
    "acc_score2"
   ]
  },
  {
   "cell_type": "markdown",
   "metadata": {},
   "source": [
    "With logistic regression, we also get a high accuracy score of 81%."
   ]
  },
  {
   "cell_type": "markdown",
   "metadata": {},
   "source": [
    "[back to table of contents](#back)"
   ]
  },
  {
   "cell_type": "markdown",
   "metadata": {},
   "source": [
    "### 5.3. Sanity Check <a id='3'></a>"
   ]
  },
  {
   "cell_type": "markdown",
   "metadata": {},
   "source": [
    "Based on previous result, we will then conduct sanity check to check whether the target values relative frequency are balanced or not."
   ]
  },
  {
   "cell_type": "markdown",
   "metadata": {},
   "source": [
    "Target dataset sanity check:"
   ]
  },
  {
   "cell_type": "code",
   "execution_count": 22,
   "metadata": {
    "scrolled": false
   },
   "outputs": [
    {
     "data": {
      "text/plain": [
       "0    0.7963\n",
       "1    0.2037\n",
       "Name: Exited, dtype: float64"
      ]
     },
     "execution_count": 22,
     "metadata": {},
     "output_type": "execute_result"
    }
   ],
   "source": [
    "class_frequency = target.value_counts()/len(target)\n",
    "class_frequency"
   ]
  },
  {
   "cell_type": "markdown",
   "metadata": {},
   "source": [
    "First model prediction values sanity check."
   ]
  },
  {
   "cell_type": "code",
   "execution_count": 23,
   "metadata": {
    "scrolled": false
   },
   "outputs": [
    {
     "data": {
      "text/plain": [
       "0    0.8664\n",
       "1    0.1336\n",
       "dtype: float64"
      ]
     },
     "execution_count": 23,
     "metadata": {},
     "output_type": "execute_result"
    }
   ],
   "source": [
    "class_frequency = predicted_valid1.value_counts()/len(predicted_valid1)\n",
    "class_frequency"
   ]
  },
  {
   "cell_type": "markdown",
   "metadata": {},
   "source": [
    "Second model prediction values sanity check."
   ]
  },
  {
   "cell_type": "code",
   "execution_count": 24,
   "metadata": {
    "scrolled": false
   },
   "outputs": [
    {
     "data": {
      "text/plain": [
       "0    0.926\n",
       "1    0.074\n",
       "dtype: float64"
      ]
     },
     "execution_count": 24,
     "metadata": {},
     "output_type": "execute_result"
    }
   ],
   "source": [
    "class_frequency = predicted_valid2.value_counts()/len(predicted_valid2)\n",
    "class_frequency"
   ]
  },
  {
   "cell_type": "markdown",
   "metadata": {},
   "source": [
    "The first and second model has the tendency to put the label 0 to the target."
   ]
  },
  {
   "cell_type": "markdown",
   "metadata": {},
   "source": [
    "We will try to build constant model to compare with random forest and logistic regression model."
   ]
  },
  {
   "cell_type": "code",
   "execution_count": 25,
   "metadata": {},
   "outputs": [
    {
     "data": {
      "text/plain": [
       "0.7932"
      ]
     },
     "execution_count": 25,
     "metadata": {},
     "output_type": "execute_result"
    }
   ],
   "source": [
    "target_pred_constant = pd.Series(0, index=target_valid.index)\n",
    "accuracy_score(target_valid, target_pred_constant)"
   ]
  },
  {
   "cell_type": "markdown",
   "metadata": {},
   "source": [
    "As we can see, the constant model can produce result as good as the model trained with logistic regression algorithm and the relative frequency between 0 and 1 are not balanced. Therefore, this model **doesn't pass** sanity check."
   ]
  },
  {
   "cell_type": "markdown",
   "metadata": {},
   "source": [
    "[back to table of contents](#back)"
   ]
  },
  {
   "cell_type": "markdown",
   "metadata": {},
   "source": [
    "### 5.4. Confusion Matrix <a id='4'></a>"
   ]
  },
  {
   "cell_type": "markdown",
   "metadata": {},
   "source": [
    "We will now build confusion matrix to check number of TP, TN, FP, and FN."
   ]
  },
  {
   "cell_type": "code",
   "execution_count": 26,
   "metadata": {
    "scrolled": false
   },
   "outputs": [
    {
     "name": "stdout",
     "output_type": "stream",
     "text": [
      "[[1899   84]\n",
      " [ 267  250]]\n"
     ]
    }
   ],
   "source": [
    "print(confusion_matrix(target_valid, predicted_valid1))"
   ]
  },
  {
   "cell_type": "markdown",
   "metadata": {},
   "source": [
    "Based on the first model's prediction, there are more false negative than false positive. Therefore, the recall score for this model will be lower than precision."
   ]
  },
  {
   "cell_type": "code",
   "execution_count": 27,
   "metadata": {
    "scrolled": true
   },
   "outputs": [
    {
     "data": {
      "text/plain": [
       "0.7485029940119761"
      ]
     },
     "execution_count": 27,
     "metadata": {},
     "output_type": "execute_result"
    }
   ],
   "source": [
    "precision_score(target_valid, predicted_valid1)"
   ]
  },
  {
   "cell_type": "code",
   "execution_count": 28,
   "metadata": {
    "scrolled": true
   },
   "outputs": [
    {
     "data": {
      "text/plain": [
       "0.4835589941972921"
      ]
     },
     "execution_count": 28,
     "metadata": {},
     "output_type": "execute_result"
    }
   ],
   "source": [
    "recall_score(target_valid, predicted_valid1)"
   ]
  },
  {
   "cell_type": "code",
   "execution_count": 29,
   "metadata": {
    "scrolled": false
   },
   "outputs": [
    {
     "data": {
      "text/plain": [
       "0.5875440658049355"
      ]
     },
     "execution_count": 29,
     "metadata": {},
     "output_type": "execute_result"
    }
   ],
   "source": [
    "f1_score(target_valid, predicted_valid1)"
   ]
  },
  {
   "cell_type": "markdown",
   "metadata": {},
   "source": [
    "The first model get us 58% F1 score with 74.8% precision and 48.4% recall score."
   ]
  },
  {
   "cell_type": "markdown",
   "metadata": {},
   "source": [
    "[back to table of contents](#back)"
   ]
  },
  {
   "cell_type": "markdown",
   "metadata": {},
   "source": [
    "### 5.5. Third Model Using Balanced Class Weight <a id='5'></a>"
   ]
  },
  {
   "cell_type": "markdown",
   "metadata": {},
   "source": [
    "For this method, we will modify the hyperparameter from the first model."
   ]
  },
  {
   "cell_type": "code",
   "execution_count": 30,
   "metadata": {
    "scrolled": true
   },
   "outputs": [
    {
     "data": {
      "text/plain": [
       "(0.8572, 0.5744934445768772)"
      ]
     },
     "execution_count": 30,
     "metadata": {},
     "output_type": "execute_result"
    }
   ],
   "source": [
    "model3 = RandomForestClassifier(random_state=123, max_depth=20, n_estimators=31, class_weight='balanced')\n",
    "model3.fit(features_train, target_train)\n",
    "predicted_valid3 = pd.Series(model3.predict(features_valid), index=target_valid.index)\n",
    "acc_score3 = accuracy_score(target_valid, predicted_valid3)\n",
    "f1_score3 = f1_score(target_valid, predicted_valid3)\n",
    "acc_score3, f1_score3"
   ]
  },
  {
   "cell_type": "markdown",
   "metadata": {},
   "source": [
    "This model is slightly worse than the previous model with the accuracy of 86.2% and F1 score of 58.4%."
   ]
  },
  {
   "cell_type": "markdown",
   "metadata": {},
   "source": [
    "[back to table of contents](#back)"
   ]
  },
  {
   "cell_type": "markdown",
   "metadata": {},
   "source": [
    "### 5.6. Fourth Model Using Upsampling <a id='6'></a>"
   ]
  },
  {
   "cell_type": "markdown",
   "metadata": {},
   "source": [
    "We will use the data with 1 label as its target 4 times so that the counts between 0 and 1 as target are roughly equal."
   ]
  },
  {
   "cell_type": "code",
   "execution_count": 31,
   "metadata": {},
   "outputs": [],
   "source": [
    "def upsample(features, target, repeat):\n",
    "    features_zeros = features[target==0]\n",
    "    features_ones = features[target==1]\n",
    "    target_zeros = target[target==0]\n",
    "    target_ones = target[target==1]\n",
    "    \n",
    "    features_upsampled = pd.concat([features_zeros] + [features_ones] * repeat)\n",
    "    target_upsampled = pd.concat([target_zeros] + [target_ones] * repeat)\n",
    "    \n",
    "    features_upsampled, target_upsampled = shuffle(\n",
    "        features_upsampled, target_upsampled, random_state=123)\n",
    "    return features_upsampled, target_upsampled"
   ]
  },
  {
   "cell_type": "code",
   "execution_count": 32,
   "metadata": {},
   "outputs": [],
   "source": [
    "features_train_upsampled, target_train_upsampled = upsample(features_train, target_train, 4)"
   ]
  },
  {
   "cell_type": "code",
   "execution_count": 33,
   "metadata": {
    "scrolled": true
   },
   "outputs": [
    {
     "data": {
      "text/plain": [
       "1    0.504146\n",
       "0    0.495854\n",
       "Name: Exited, dtype: float64"
      ]
     },
     "execution_count": 33,
     "metadata": {},
     "output_type": "execute_result"
    }
   ],
   "source": [
    "class_frequency = target_train_upsampled.value_counts()/len(target_train_upsampled)\n",
    "class_frequency"
   ]
  },
  {
   "cell_type": "markdown",
   "metadata": {},
   "source": [
    "We use the algorithm and hyperparameter from the first model and the resulting upsamples to train the model."
   ]
  },
  {
   "cell_type": "code",
   "execution_count": 34,
   "metadata": {},
   "outputs": [
    {
     "data": {
      "text/plain": [
       "(0.854, 0.6233230134158927)"
      ]
     },
     "execution_count": 34,
     "metadata": {},
     "output_type": "execute_result"
    }
   ],
   "source": [
    "model4 = RandomForestClassifier(random_state=123, max_depth=20, n_estimators=31)\n",
    "model4.fit(features_train_upsampled, target_train_upsampled)\n",
    "predicted_valid4 = model4.predict(features_valid)\n",
    "acc_score4 = accuracy_score(target_valid, predicted_valid4)\n",
    "f1_score4 = f1_score(target_valid, predicted_valid4)\n",
    "\n",
    "acc_score4, f1_score4"
   ]
  },
  {
   "cell_type": "markdown",
   "metadata": {},
   "source": [
    "We get a slightly better F1 score of 62.3% and the same accuracy score of 85.4%."
   ]
  },
  {
   "cell_type": "markdown",
   "metadata": {},
   "source": [
    "[back to table of contents](#back)"
   ]
  },
  {
   "cell_type": "markdown",
   "metadata": {},
   "source": [
    "### 5.7. Fifth Model Using Downsampling <a id='7'></a>"
   ]
  },
  {
   "cell_type": "markdown",
   "metadata": {},
   "source": [
    "We will use the data with 0 as its target 0.25 times so that the counts between 0 and 1 as target are roughly equal."
   ]
  },
  {
   "cell_type": "code",
   "execution_count": 35,
   "metadata": {},
   "outputs": [],
   "source": [
    "def downsample(features, target, fraction):\n",
    "    features_zeros = features[target==0]\n",
    "    features_ones = features[target==1]\n",
    "    target_zeros = target[target==0]\n",
    "    target_ones = target[target==1]\n",
    "    \n",
    "    features_downsampled = pd.concat([features_zeros.sample(frac=fraction, random_state=123)] + [features_ones])\n",
    "    target_downsampled = pd.concat([target_zeros.sample(frac=fraction, random_state=123)] + [target_ones])\n",
    "    \n",
    "    features_downsampled, target_downsampled = shuffle(\n",
    "        features_downsampled, target_downsampled, random_state=123)\n",
    "    return features_downsampled, target_downsampled"
   ]
  },
  {
   "cell_type": "code",
   "execution_count": 36,
   "metadata": {},
   "outputs": [],
   "source": [
    "features_train_downsampled, target_train_downsampled = downsample(features_train, target_train, 0.25)"
   ]
  },
  {
   "cell_type": "code",
   "execution_count": 37,
   "metadata": {
    "scrolled": true
   },
   "outputs": [
    {
     "data": {
      "text/plain": [
       "1    0.504146\n",
       "0    0.495854\n",
       "Name: Exited, dtype: float64"
      ]
     },
     "execution_count": 37,
     "metadata": {},
     "output_type": "execute_result"
    }
   ],
   "source": [
    "class_frequency = target_train_downsampled.value_counts()/len(target_train_downsampled)\n",
    "class_frequency"
   ]
  },
  {
   "cell_type": "markdown",
   "metadata": {},
   "source": [
    "We use the algorithm and hyperparameter from the first model and the resulting upsamples to train the model."
   ]
  },
  {
   "cell_type": "code",
   "execution_count": 38,
   "metadata": {},
   "outputs": [
    {
     "data": {
      "text/plain": [
       "(0.7752, 0.5855457227138643)"
      ]
     },
     "execution_count": 38,
     "metadata": {},
     "output_type": "execute_result"
    }
   ],
   "source": [
    "model5 = RandomForestClassifier(random_state=123, max_depth=20, n_estimators=31)\n",
    "model5.fit(features_train_downsampled, target_train_downsampled)\n",
    "predicted_valid5 = model5.predict(features_valid)\n",
    "acc_score5 = accuracy_score(target_valid, predicted_valid5)\n",
    "f1_score5 = f1_score(target_valid, predicted_valid5)\n",
    "\n",
    "acc_score5, f1_score5"
   ]
  },
  {
   "cell_type": "markdown",
   "metadata": {},
   "source": [
    "The resulting model from this downsampling method performs worse than the first model. It has the accuracy score of 77.5% and F1 score of 58.5%."
   ]
  },
  {
   "cell_type": "markdown",
   "metadata": {},
   "source": [
    "[back to table of contents](#back)"
   ]
  },
  {
   "cell_type": "markdown",
   "metadata": {},
   "source": [
    "### 5.8. Adjusting Classification Thresholds <a id='8'></a>"
   ]
  },
  {
   "cell_type": "markdown",
   "metadata": {},
   "source": [
    "We will modify the current best model, the fourth model."
   ]
  },
  {
   "cell_type": "code",
   "execution_count": 39,
   "metadata": {},
   "outputs": [
    {
     "data": {
      "text/plain": [
       "array([0.        , 0.19354839, 0.03511637, 0.51612903, 0.5483871 ])"
      ]
     },
     "execution_count": 39,
     "metadata": {},
     "output_type": "execute_result"
    }
   ],
   "source": [
    "probabilities_valid = model4.predict_proba(features_valid)\n",
    "probabilities_one_valid = probabilities_valid[:,1]\n",
    "probabilities_one_valid[:5]"
   ]
  },
  {
   "cell_type": "code",
   "execution_count": 40,
   "metadata": {
    "scrolled": false
   },
   "outputs": [
    {
     "name": "stdout",
     "output_type": "stream",
     "text": [
      "Threshold = 0.40 | Accuracy = 0.836, Precision = 0.593, Recall = 0.667, F1 = 0.628\n",
      "Threshold = 0.41 | Accuracy = 0.838, Precision = 0.596, Recall = 0.667, F1 = 0.630\n",
      "Threshold = 0.42 | Accuracy = 0.844, Precision = 0.618, Recall = 0.638, F1 = 0.628\n",
      "Threshold = 0.43 | Accuracy = 0.844, Precision = 0.618, Recall = 0.638, F1 = 0.628\n",
      "Threshold = 0.44 | Accuracy = 0.845, Precision = 0.623, Recall = 0.638, F1 = 0.630\n",
      "Threshold = 0.45 | Accuracy = 0.847, Precision = 0.629, Recall = 0.632, F1 = 0.631\n",
      "Threshold = 0.46 | Accuracy = 0.853, Precision = 0.652, Recall = 0.617, F1 = 0.634\n",
      "Threshold = 0.47 | Accuracy = 0.853, Precision = 0.653, Recall = 0.615, F1 = 0.633\n",
      "Threshold = 0.48 | Accuracy = 0.852, Precision = 0.652, Recall = 0.609, F1 = 0.630\n",
      "Threshold = 0.49 | Accuracy = 0.854, Precision = 0.668, Recall = 0.584, F1 = 0.623\n",
      "Threshold = 0.50 | Accuracy = 0.854, Precision = 0.668, Recall = 0.584, F1 = 0.623\n",
      "Threshold = 0.51 | Accuracy = 0.854, Precision = 0.668, Recall = 0.580, F1 = 0.621\n",
      "Threshold = 0.52 | Accuracy = 0.855, Precision = 0.681, Recall = 0.563, F1 = 0.617\n",
      "Threshold = 0.53 | Accuracy = 0.854, Precision = 0.680, Recall = 0.559, F1 = 0.614\n",
      "Threshold = 0.54 | Accuracy = 0.854, Precision = 0.683, Recall = 0.553, F1 = 0.611\n",
      "Threshold = 0.55 | Accuracy = 0.854, Precision = 0.699, Recall = 0.520, F1 = 0.596\n"
     ]
    }
   ],
   "source": [
    "for threshold in np.arange(0.40,0.55,0.01):\n",
    "    predicted_valid6 = probabilities_one_valid > threshold\n",
    "    accuracy = accuracy_score(target_valid, predicted_valid6)\n",
    "    precision = precision_score(target_valid, predicted_valid6)\n",
    "    recall = recall_score(target_valid, predicted_valid6)\n",
    "    f1 = f1_score(target_valid, predicted_valid6)\n",
    "    print(f'Threshold = {threshold:.2f} | Accuracy = {accuracy:.3f}, Precision = {precision:.3f}, Recall = {recall:.3f}, F1 = {f1:.3f}')"
   ]
  },
  {
   "cell_type": "markdown",
   "metadata": {},
   "source": [
    "When threshold equals to 0.46, the model achieve its best F1 score of 63.4% with the accuracy of 85.3%, precision of 65.2% and recall of 61.7%."
   ]
  },
  {
   "cell_type": "markdown",
   "metadata": {},
   "source": [
    "[back to table of contents](#back)"
   ]
  },
  {
   "cell_type": "markdown",
   "metadata": {},
   "source": [
    "### 5.9. Precision Recall Curve <a id='9'></a>"
   ]
  },
  {
   "cell_type": "code",
   "execution_count": 41,
   "metadata": {},
   "outputs": [],
   "source": [
    "precision, recall, thresholds = precision_recall_curve(target_valid, probabilities_one_valid)"
   ]
  },
  {
   "cell_type": "code",
   "execution_count": 42,
   "metadata": {
    "scrolled": false
   },
   "outputs": [
    {
     "data": {
      "image/png": "[encoded data removed]",
      "text/plain": [
       "<Figure size 400x400 with 1 Axes>"
      ]
     },
     "metadata": {},
     "output_type": "display_data"
    }
   ],
   "source": [
    "fig, ax = plt.subplots(figsize=(4,4))\n",
    "ax.step(recall, precision, where='post')\n",
    "ax.set_title('PRC')\n",
    "ax.set_xlabel('recall')\n",
    "ax.set_ylabel('precision')\n",
    "ax.axis([-0.1,1.1,-0.1,1.1])\n",
    "plt.show()"
   ]
  },
  {
   "cell_type": "markdown",
   "metadata": {},
   "source": [
    "From this curve, we can see that recall and precision has negative correlation. The two values will be balanced at around 0.6 precision and recall scores."
   ]
  },
  {
   "cell_type": "markdown",
   "metadata": {},
   "source": [
    "[back to table of contents](#back)"
   ]
  },
  {
   "cell_type": "markdown",
   "metadata": {},
   "source": [
    "### 5.10. Receiver Operating Characteristic Curve <a id='10'></a>"
   ]
  },
  {
   "cell_type": "code",
   "execution_count": 43,
   "metadata": {},
   "outputs": [],
   "source": [
    "fpr, tpr, thresholds = roc_curve(target_valid, probabilities_one_valid)"
   ]
  },
  {
   "cell_type": "code",
   "execution_count": 44,
   "metadata": {
    "scrolled": false
   },
   "outputs": [
    {
     "data": {
      "image/png": "[encoded data removed]",
      "text/plain": [
       "<Figure size 400x400 with 1 Axes>"
      ]
     },
     "metadata": {},
     "output_type": "display_data"
    }
   ],
   "source": [
    "fig, ax = plt.subplots(figsize=(4,4))\n",
    "ax.plot([0,1],[0,1],'--')\n",
    "ax.step(fpr, tpr, where='post')\n",
    "ax.set_title('ROC')\n",
    "ax.set_xlabel('FPR')\n",
    "ax.set_ylabel('TPR')\n",
    "ax.axis([-0.1,1.1,-0.1,1.1])\n",
    "plt.show()"
   ]
  },
  {
   "cell_type": "code",
   "execution_count": 45,
   "metadata": {},
   "outputs": [
    {
     "name": "stdout",
     "output_type": "stream",
     "text": [
      "0.8482088077478686\n"
     ]
    }
   ],
   "source": [
    "print(roc_auc_score(target_valid, probabilities_one_valid))"
   ]
  },
  {
   "cell_type": "markdown",
   "metadata": {},
   "source": [
    "From ROC Curve, we see that for different thresholds, the TPR score drastically gets better from 0% to 70%, afterwards the rate slowly gets better. The ROC-AUC score (84.8%) is way better than the random model AUC score (50%). This means that our fourth model is better than a random model."
   ]
  },
  {
   "cell_type": "markdown",
   "metadata": {},
   "source": [
    "[back to table of contents](#back)"
   ]
  },
  {
   "cell_type": "markdown",
   "metadata": {},
   "source": [
    "## 6. Result and Conclusion <a id='end'></a>"
   ]
  },
  {
   "cell_type": "markdown",
   "metadata": {},
   "source": [
    "Based on the initial data exploration, we found that the data is only missing on `tenure` column. There is no redundant columns, duplicated rows, invalid data, or outliers. The missing data is handled by filling in with the value 0.\n",
    "\n",
    "After cleaning the data, it is then pre-processed by defining features and target columns. The feature columns consist of `CreditScore, Geography, Gender, Age, Tenure, Balance, NumOfProducts, HasCrCard, IsActiveMember, and EstimatedSalary` columns. Whereas the target column is `Exited` column. After defining the features and target columns, the data is then split into training and validation dataset with 75% of the data goes to training dataset and the remaining goes to validation dataset.\n",
    "\n",
    "The features are divided into numerical and categorical columns with Geography and Gender columns put into categorical and the remaining put into numerical. For the following analysis, we transform the categorical data using **one hot encoding** by generating dummy columns so that each value in the categorical columns has its own column indicating the existence of that value. The numerical columns are also transformed by **standardizing** the value so that each column has the mean of 0 and standard deviation of 1. This standardization puts every value in the columns into the same scale.\n",
    "\n",
    "Next, we build an initial model using random forest classifier using a number of different depths and estimators to pick the best. The best model gives the accuracy score of 86.2% with the depth of 20, and n_estimators of 31. After that we build the second model using logistic regression. This model has a worse accuracy score of 81.4%. With a high accuracy score. It is highly likely that the class is imbalanced so we perform sanity check. Based on the sanity check, we see that 79.6% of the target column is 0 and 20.4% is 1. This is **highly imbalanced**. We then build the confusion matrix and calculate precision, recall, and F1 score. We get the precision of 74.8%, recall, of 48.4% and F1 score of 58%.\n",
    "\n",
    "We build the third model using the balanced class weight hyperparameter which gives the same accuracy score of 86.2% and F1 score of 58.4%. In the fourth model, we try to balance the class by upsampling the training dataset with 1 value 4 times. Then we train the first model with this dataset. From this model, we also get the 85.4% for the accuracy score and 62.3% for the f1 score. **This model is currently the best model**. The fifth model is built by downsampling the dataset with 0 value by 0.25 times. This model gives off a worse accuracy of 77.5% and f1 score of 58.5%.\n",
    "\n",
    "Next, we try to adjust the classification threshold for the fourth model. When the threshold equals to **0.46**, the model achieves its best state with the accuracy of 85.3%, precision of 65.2% and recall of 61.7%. We then plot the precision recall curve for this model. The plot suggest that the two values will be **balanced** at around 60% precision and recall scores. From ROC Curve, we see that for different thresholds, the TPR score drastically gets better from 0% to 70%, afterwards the rate slowly gets better. The ROC AUC score from this curve is **84.8%** which is better than a random model.\n",
    "\n",
    "Based on the accuracy and F1 score, we can get the **best prediction** with accuracy score of 85.3% and F1 score of 63.4% when we use upsamples to train random forest classifier with the depth of 20, and n_estimators of 31 with threshold adjustment to 0.46."
   ]
  },
  {
   "cell_type": "markdown",
   "metadata": {},
   "source": [
    "[back to table of contents](#back)"
   ]
  }
 ],
 "metadata": {
  "kernelspec": {
   "display_name": "Python 3 (ipykernel)",
   "language": "python",
   "name": "python3"
  },
  "language_info": {
   "codemirror_mode": {
    "name": "ipython",
    "version": 3
   },
   "file_extension": ".py",
   "mimetype": "text/x-python",
   "name": "python",
   "nbconvert_exporter": "python",
   "pygments_lexer": "ipython3",
   "version": "3.9.13"
  },
  "toc": {
   "base_numbering": 1,
   "nav_menu": {},
   "number_sections": true,
   "sideBar": true,
   "skip_h1_title": true,
   "title_cell": "Table of Contents",
   "title_sidebar": "Contents",
   "toc_cell": false,
   "toc_position": {},
   "toc_section_display": true,
   "toc_window_display": false
  }
 },
 "nbformat": 4,
 "nbformat_minor": 2
}
